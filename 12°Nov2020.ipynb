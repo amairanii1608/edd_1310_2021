{
  "nbformat": 4,
  "nbformat_minor": 0,
  "metadata": {
    "colab": {
      "name": "12°Nov2020.ipynb",
      "provenance": [],
      "authorship_tag": "ABX9TyN3TA5YicLQ1EWErqHo8HLR",
      "include_colab_link": true
    },
    "kernelspec": {
      "display_name": "Python 3",
      "name": "python3"
    }
  },
  "cells": [
    {
      "cell_type": "markdown",
      "metadata": {
        "id": "view-in-github",
        "colab_type": "text"
      },
      "source": [
        "<a href=\"https://colab.research.google.com/github/amairanii1608/edd_1310_2021/blob/main/12%C2%B0Nov2020.ipynb\" target=\"_parent\"><img src=\"https://colab.research.google.com/assets/colab-badge.svg\" alt=\"Open In Colab\"/></a>"
      ]
    },
    {
      "cell_type": "code",
      "metadata": {
        "id": "MQpMvs2Tibcv",
        "outputId": "5c840c82-1b1a-4adc-f0ca-97414bade7e8",
        "colab": {
          "base_uri": "https://localhost:8080/"
        }
      },
      "source": [
        "\n",
        "class Nodo:\n",
        "  def __init__(self , dato ):\n",
        "    self.dato = dato\n",
        "    self.siguiente = None\n",
        "\n",
        "#ejemplo 1 \n",
        "#un solo elemento\n",
        "a = Nodo ( 12 )\n",
        "print( a.dato )\n",
        "print( a.siguiente )\n",
        "\n",
        "#empieza a agregarse mas elementos\n",
        "\n",
        "# ejemplo 2\n",
        "a.siguiente = Nodo(20)\n",
        "\n",
        "#ejemplo 3\n",
        "a.siguiente.siguiente = Nodo(30)\n",
        "\n",
        "#ejemplo 4\n",
        "a.siguiente.siguiente.siguiente = Nodo(40)\n",
        "\n",
        "#ejemplo 5\n",
        "a.siguiente.siguiente.siguiente.siguiente = Nodo(50)\n",
        "\n",
        "#Ejemplo 6\n",
        "#Eiminando el nodo 30 \n",
        "a.siguiente.siguiente=a.siguiente.siguiente.siguiente\n",
        "\n",
        "#Ejemplo 7   Borrar todo menos el primero\n",
        "a.siguiente.siguiente.dato= 45\n",
        "\n",
        "#EJEMPLO 8 insertar dato\n",
        "tmp=a.siguiente.siguiente.siguiente #se crea una temporal, para no perder referencia\n",
        "a.siguiente.siguiente.siguiente=Nodo(48)#Creando nodo que se va insertar\n",
        "a.siguiente.siguiente.siguiente.siguiente=tmp\n",
        "\n",
        "#Corrido TRansversal\n",
        "curr_node=a\n",
        "print(curr_node.dato,\"--> \", end=\"\")\n",
        "while( curr_node.siguiente != None):\n",
        "  curr_node = curr_node.siguiente\n",
        "  print(curr_node.dato,\"--> \", end=\"\")\n",
        "print(\"END\")\n"
      ],
      "execution_count": 17,
      "outputs": [
        {
          "output_type": "stream",
          "text": [
            "12\n",
            "None\n",
            "12 --> 20 --> 45 --> 48 --> 50 --> END\n"
          ],
          "name": "stdout"
        }
      ]
    },
    {
      "cell_type": "code",
      "metadata": {
        "id": "ugP63hhDwEwd",
        "outputId": "564c3921-a60f-40aa-84d5-9f6442cc762e",
        "colab": {
          "base_uri": "https://localhost:8080/"
        }
      },
      "source": [
        "class Nodo:\n",
        "    def __init__( self , dato  , sig=None ):\n",
        "        self.dato = dato\n",
        "        self.siguiente = sig\n",
        "\n",
        "# ejemplo 1\n",
        "a = Nodo( 10 )\n",
        "\n",
        "# ejemplo 2   RECONSTRUCCION\n",
        "a = Nodo(10 , Nodo(20) )\n",
        "\n",
        "a = Nodo(10 , Nodo(20, Nodo(30)) )\n",
        "\n",
        "a = Nodo(10 , Nodo(20, Nodo(30,Nodo(40,Nodo(50)))) )\n",
        "\n",
        "\n",
        "\n",
        "\n",
        "\n",
        "\n",
        "\n",
        "curr_node = a\n",
        "print(curr_node.dato , \"-->\" , end=\"\")\n",
        "while( curr_node.siguiente != None ):\n",
        "    curr_node = curr_node.siguiente\n",
        "    print(curr_node.dato, \"-->\" , end=\"\")\n",
        "print(\"\")"
      ],
      "execution_count": 18,
      "outputs": [
        {
          "output_type": "stream",
          "text": [
            "10 -->20 -->30 -->40 -->50 -->\n"
          ],
          "name": "stdout"
        }
      ]
    }
  ]
}
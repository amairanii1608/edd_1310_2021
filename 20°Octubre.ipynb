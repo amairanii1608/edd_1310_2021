{
  "nbformat": 4,
  "nbformat_minor": 0,
  "metadata": {
    "colab": {
      "name": "20°Octubre.ipynb",
      "provenance": [],
      "authorship_tag": "ABX9TyOEGbhvwGByWJxGEiyE1OWe",
      "include_colab_link": true
    },
    "kernelspec": {
      "name": "python3",
      "display_name": "Python 3"
    }
  },
  "cells": [
    {
      "cell_type": "markdown",
      "metadata": {
        "id": "view-in-github",
        "colab_type": "text"
      },
      "source": [
        "<a href=\"https://colab.research.google.com/github/amairanii1608/edd_1310_2021/blob/main/20%C2%B0Octubre.ipynb\" target=\"_parent\"><img src=\"https://colab.research.google.com/assets/colab-badge.svg\" alt=\"Open In Colab\"/></a>"
      ]
    },
    {
      "cell_type": "code",
      "metadata": {
        "id": "bSs9VeLzx17-",
        "outputId": "9ffe095b-c6f6-4e21-9b2f-b5549022168c",
        "colab": {
          "base_uri": "https://localhost:8080/",
          "height": 272
        }
      },
      "source": [
        "archivo = open('numeros.txt','r')\n",
        "for linea in archivo.readlines()[:3:]:\n",
        "    for truc in linea.split(\",\"):\n",
        "      print(int(truc.strip()))"
      ],
      "execution_count": null,
      "outputs": [
        {
          "output_type": "stream",
          "text": [
            "23\n",
            "23\n",
            "44\n",
            "55\n",
            "5\n",
            "44\n",
            "4\n",
            "5\n",
            "7\n",
            "7\n",
            "6\n",
            "5\n",
            "4\n",
            "2\n",
            "1\n"
          ],
          "name": "stdout"
        }
      ]
    },
    {
      "cell_type": "markdown",
      "metadata": {
        "id": "-5Z-QL2X2r-c"
      },
      "source": [
        "#sintaxis del for en Python\n",
        "\n",
        "dos versiones de for\n",
        "\n",
        "    1.range\n",
        "    2.in iterator"
      ]
    },
    {
      "cell_type": "code",
      "metadata": {
        "id": "A7RJcS0C23Pe",
        "outputId": "4bf57185-8cbc-4764-e3f5-47a40f3e59c0",
        "colab": {
          "base_uri": "https://localhost:8080/",
          "height": 374
        }
      },
      "source": [
        "r = range(0,10,2)\n",
        "for x in r:\n",
        "  print(x)\n",
        "\n",
        "colores = [\"rojo\",\"rosa\",\"azul\",\"fucsia\"]\n",
        "\n",
        "for indice in range(0,4,1): #for(indice =0;indice <4;indice++) o for indice in range(0,len(colores),1):  len regresa el tamaño de la lista\n",
        "  #print(colores[indice])    #para cuando se modifica un elemento\n",
        "  colores[indice]=colores[indice].upper()\n",
        "\n",
        "  #for sobre un iterador   #for siempre trabaja sobre un iterable\n",
        "\n",
        "  for col in colores: #recorrer solo mostrar el contenido\n",
        "    print(col)"
      ],
      "execution_count": null,
      "outputs": [
        {
          "output_type": "stream",
          "text": [
            "0\n",
            "2\n",
            "4\n",
            "6\n",
            "8\n",
            "ROJO\n",
            "rosa\n",
            "azul\n",
            "fucsia\n",
            "ROJO\n",
            "ROSA\n",
            "azul\n",
            "fucsia\n",
            "ROJO\n",
            "ROSA\n",
            "AZUL\n",
            "fucsia\n",
            "ROJO\n",
            "ROSA\n",
            "AZUL\n",
            "FUCSIA\n"
          ],
          "name": "stdout"
        }
      ]
    },
    {
      "cell_type": "markdown",
      "metadata": {
        "id": "Sf_RqnhT7-xr"
      },
      "source": [
        "# generadores\n",
        "\n",
        "[ \"hola\" for x in range(10) ]\n",
        "\n"
      ]
    },
    {
      "cell_type": "code",
      "metadata": {
        "id": "xBKq_Phl8VpE",
        "outputId": "c1645a18-bcc1-497c-f8cd-30aa88135f33",
        "colab": {
          "base_uri": "https://localhost:8080/",
          "height": 34
        }
      },
      "source": [
        "#lista =[ x for x in range(10) ]\n",
        "#lista =[ \"hola\" for x in range(10) ]\n",
        "lista =[ 0 for x in range(10) ] #listas vacias\n",
        "print(lista)"
      ],
      "execution_count": null,
      "outputs": [
        {
          "output_type": "stream",
          "text": [
            "[0, 0, 0, 0, 0, 0, 0, 0, 0, 0]\n"
          ],
          "name": "stdout"
        }
      ]
    },
    {
      "cell_type": "code",
      "metadata": {
        "id": "edl_l4pe-6lL",
        "outputId": "eb4515c2-bda8-4bb0-a10b-88096da11b87",
        "colab": {
          "base_uri": "https://localhost:8080/",
          "height": 34
        }
      },
      "source": [
        "lista =[[0,0,0,] for x in range(3)]\n",
        "print(lista)"
      ],
      "execution_count": null,
      "outputs": [
        {
          "output_type": "stream",
          "text": [
            "[[0, 0, 0], [0, 0, 0], [0, 0, 0]]\n"
          ],
          "name": "stdout"
        }
      ]
    },
    {
      "cell_type": "code",
      "metadata": {
        "id": "FqV4SWC499ZU",
        "outputId": "81c045ff-04e0-4818-80ba-bd08c498bdeb",
        "colab": {
          "base_uri": "https://localhost:8080/",
          "height": 34
        }
      },
      "source": [
        "ren= 3\n",
        "col =3\n",
        "lista =[ [0 for x in range(3)] for x in range(ren) ]\n",
        "print(lista)"
      ],
      "execution_count": null,
      "outputs": [
        {
          "output_type": "stream",
          "text": [
            "[[0, 0, 0], [0, 0, 0], [0, 0, 0]]\n"
          ],
          "name": "stdout"
        }
      ]
    },
    {
      "cell_type": "markdown",
      "metadata": {
        "id": "LGKrtKqu_H2-"
      },
      "source": [
        "# POO en Python\n",
        "- clase\n",
        "- creacion de objetos\n",
        "- constructor\n",
        "- encapsulamiento\n",
        "- métodos\n",
        "- atributos\n",
        "- herencia"
      ]
    },
    {
      "cell_type": "code",
      "metadata": {
        "id": "-qsYG5eD_f_r",
        "outputId": "58c4db95-82f3-4932-e1a2-1f692af98652",
        "colab": {
          "base_uri": "https://localhost:8080/",
          "height": 34
        }
      },
      "source": [
        " class Computadora:\n",
        "     def __init__( self , m , p): #método constructor #requerimeinto para ajustar el comportamiento de python orientado a objetoscon2 guiones bajos siempre\n",
        "         self.__marca= m           #para decir en Python que un atributo es privado\n",
        "         self.__procesador= p\n",
        "\n",
        "    # print(\"creando el objeto\")\n",
        "\n",
        "     def to_string( self ):\n",
        "        return \"MArca: \"+self.__marca+\" Procesador:\"+self.__procesador\n",
        "\n",
        " mi_pc = Computadora(\"Toshiba\",\"Intel i7\")\n",
        " mi_pc.__marca=\"HP \"\n",
        " print(mi_pc.to_string())"
      ],
      "execution_count": null,
      "outputs": [
        {
          "output_type": "stream",
          "text": [
            "MArca: Toshiba Procesador:Intel i7\n"
          ],
          "name": "stdout"
        }
      ]
    }
  ]
}
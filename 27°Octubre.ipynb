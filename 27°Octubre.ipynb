{
  "nbformat": 4,
  "nbformat_minor": 0,
  "metadata": {
    "colab": {
      "name": "27°Octubre.ipynb",
      "provenance": [],
      "authorship_tag": "ABX9TyP3+8I7qGR6AOy8pD4gBvBR",
      "include_colab_link": true
    },
    "kernelspec": {
      "name": "python3",
      "display_name": "Python 3"
    }
  },
  "cells": [
    {
      "cell_type": "markdown",
      "metadata": {
        "id": "view-in-github",
        "colab_type": "text"
      },
      "source": [
        "<a href=\"https://colab.research.google.com/github/amairanii1608/edd_1310_2021/blob/main/27%C2%B0Octubre.ipynb\" target=\"_parent\"><img src=\"https://colab.research.google.com/assets/colab-badge.svg\" alt=\"Open In Colab\"/></a>"
      ]
    },
    {
      "cell_type": "code",
      "metadata": {
        "id": "hd1sENNOCfe3",
        "outputId": "5d01ec23-e395-4c51-cf5f-092924cd28d7",
        "colab": {
          "base_uri": "https://localhost:8080/",
          "height": 68
        }
      },
      "source": [
        "class Computadora:\n",
        "    def __init__( self , m , p):\n",
        "        self.__marca = m\n",
        "        self.__procesador = p\n",
        "\n",
        "    def to_string( self ):\n",
        "        return \"MArca:\"+self.__marca+\" Procesador:\"+self.__procesador\n",
        "\n",
        "    def set_marca( self , m ):\n",
        "        self.__marca = m\n",
        "    \n",
        "    def get_marca( self ):\n",
        "        return self.__marca\n",
        "\n",
        "    def set_procesador( self , p ):\n",
        "        self._procesador = p\n",
        "\n",
        "    def get_procesador( self ):\n",
        "        return self.__procesador\n",
        "\n",
        "mi_pc = Computadora(\"Toshiba\",\"Intel i7\")\n",
        "print(mi_pc.to_string())\n",
        "mi_pc.__marca=\"HP \"  # Intentando cambiar el valor privado\n",
        "mi_pc.set_marca(\"HP co.\")\n",
        "print(mi_pc.to_string())\n",
        "#print(mi_pc.__procesador)\n",
        "print(mi_pc.get_procesador() )"
      ],
      "execution_count": null,
      "outputs": [
        {
          "output_type": "stream",
          "text": [
            "MArca:Toshiba Procesador:Intel i7\n",
            "MArca:HP co. Procesador:Intel i7\n",
            "Intel i7\n"
          ],
          "name": "stdout"
        }
      ]
    },
    {
      "cell_type": "markdown",
      "metadata": {
        "id": "AoeNzJF2EHV0"
      },
      "source": [
        "# encapsulamientp python 3\n",
        "## tradicional tipo Java\n",
        "    setAtributo ( val )\n",
        "    tipo getAtributo ( )\n",
        "## estilo python 3\n",
        "UTILIZANDO DECORADORES\n",
        "- @propery\n",
        "- @atributo.setter"
      ]
    },
    {
      "cell_type": "code",
      "metadata": {
        "id": "Aa6wKh1cH1eI",
        "outputId": "d3f2f339-03c4-4ed8-f8c0-d07b8bc55dfd",
        "colab": {
          "base_uri": "https://localhost:8080/",
          "height": 102
        }
      },
      "source": [
        "class Computadora:\n",
        "    def __init__( self , m , p):\n",
        "        self.marca = m #aqui no se declara, por eso .marca en vez de .__marca #se manda llamar el decorador @property\n",
        "        self.procesador = p #idem\n",
        "\n",
        "    @property #declara como atributo privado y funciona como metodo get\n",
        "    def marca( self ):\n",
        "        return self.__marca\n",
        "\n",
        "    @marca.setter\n",
        "    def marca( self , m ):\n",
        "        print(\"En el setter MARCA\")\n",
        "        self.__marca = m \n",
        "\n",
        "    @property\n",
        "    def procesador( self ):\n",
        "        return self.__procesador\n",
        "\n",
        "    @procesador.setter\n",
        "    def procesador( self , p ):\n",
        "        print(\"En el metodo set de procesador\")#indicando las veces que se manda a llamar set\n",
        "        self.__procesador = p\n",
        "\n",
        "    def to_string( self ):\n",
        "        return \"marca:\" + self.marca + \" Procesador:\" + self.procesador\n",
        "\n",
        "mi_pc2 = Computadora(\"Marca Book\", \"Intel i7\")\n",
        "print( mi_pc2.to_string() )\n",
        "mi_pc2.marca = \"Dell\" #set\n",
        "print( mi_pc2.to_string() )"
      ],
      "execution_count": null,
      "outputs": [
        {
          "output_type": "stream",
          "text": [
            "En el setter MARCA\n",
            "En el metodo set de procesador\n",
            "marca:Marca Book Procesador:Intel i7\n",
            "En el setter MARCA\n",
            "marca:Dell Procesador:Intel i7\n"
          ],
          "name": "stdout"
        }
      ]
    },
    {
      "cell_type": "code",
      "metadata": {
        "id": "rOG99zexQxKm",
        "outputId": "773ca5b3-946d-46c5-a992-66ba86d1deb5",
        "colab": {
          "base_uri": "https://localhost:8080/",
          "height": 85
        }
      },
      "source": [
        "# herencia , pasando la clase base a la declaracion\n",
        "class ServidorEmpresarial(Computadora):\n",
        "    def __init__( self ):\n",
        "        print(\"Hola servidor\")\n",
        "\n",
        "#server = servidor(\"HP\",\"\")\n",
        "server = ServidorEmpresarial()\n",
        "server.marca = \"Sun Micro Systems\"\n",
        "server.procesador = \"intel i7\"\n",
        "print(server.to_string())"
      ],
      "execution_count": null,
      "outputs": [
        {
          "output_type": "stream",
          "text": [
            "Hola servidor\n",
            "En el setter MARCA\n",
            "En el metodo set de procesador\n",
            "marca:Sun Micro Systems Procesador:intel i7\n"
          ],
          "name": "stdout"
        }
      ]
    }
  ]
}
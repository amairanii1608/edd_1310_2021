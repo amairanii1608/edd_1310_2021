{
  "nbformat": 4,
  "nbformat_minor": 0,
  "metadata": {
    "colab": {
      "name": "Tarea2.ipynb",
      "provenance": [],
      "authorship_tag": "ABX9TyMPQsvDCsJxPTTyuHoVI6X1",
      "include_colab_link": true
    },
    "kernelspec": {
      "name": "python3",
      "display_name": "Python 3"
    }
  },
  "cells": [
    {
      "cell_type": "markdown",
      "metadata": {
        "id": "view-in-github",
        "colab_type": "text"
      },
      "source": [
        "<a href=\"https://colab.research.google.com/github/amairanii1608/edd_1310_2021/blob/main/Tarea2.ipynb\" target=\"_parent\"><img src=\"https://colab.research.google.com/assets/colab-badge.svg\" alt=\"Open In Colab\"/></a>"
      ]
    },
    {
      "cell_type": "code",
      "metadata": {
        "id": "cXvm35NlPvzQ",
        "outputId": "f8111819-e61c-4da7-aeb9-ee5b5dad563d",
        "colab": {
          "base_uri": "https://localhost:8080/",
          "height": 377
        }
      },
      "source": [
        "archivo= open(\"./sample_data/Datos.txt\",\"rt\")\n",
        "datos = archivo.read()\n",
        "print(datos)\n",
        "archivo.close()"
      ],
      "execution_count": null,
      "outputs": [
        {
          "output_type": "stream",
          "text": [
            "1,2,      1,   14,          29,45,5,        58,56, 10,     29,     14,      88,           17,4,3,1,7,         12,            10\n",
            "\n",
            "2,        23,               5, 8, 44,        2, 2,             13,             5,9,10,16,  98,  76,      47,     1,1,3,         2\n",
            "\n",
            "3,       87,       15,11,9,      7,90,97,           21,3,4,1,     8,   88,    74,         32, 34,    43, 17,        77, 93\n",
            "\n",
            "4,46,8,1,6,2,         10,37,84,     4,5,9,10,            2,         6 ,3,   1,1 ,1,    8,   4,20,  33,  23,       18, 45\n",
            "     \n",
            "55, 3, 2,      29,     58,    83,9, 17, 1,    43, 20,          93,     31,        46,43, 77,           8,44,45, 17,          62\n",
            "\n",
            "6,       74, 13, 44,          18, 45,                11,   93, 2,   1, 1 ,1,        25, 1,        42,  18,     22,              44,   52\n",
            "\n",
            "7,    88, 93,    6, 54, 2, 8, 1,        41, 86, 79,        33, 48,9,             32, 63,18,7,         33,2,1,     16,11, 7\n",
            "\n",
            "8, 0,  22,    17,30,6, 2,         12, 47,  37,     34,   85,       47,    33,  2,  6,      8, 4, 5,   29,    30, 42,      77, 2\n",
            "\n",
            "9,    2,3,4,    1,1,      3,6,   7,7,8,  9,      5, 1,      3, 4, 9,    10,           12,    3, 1,     5,    6,    22,11,     0,  2\n",
            "\n",
            "1,0,     2,55,      9,  3,     55,    23,1,6,      9,    4,   5,     3,3,2,  1,      3,8,      1,   6,       10,      0,   1,5,1,      3\n",
            "\n"
          ],
          "name": "stdout"
        }
      ]
    },
    {
      "cell_type": "code",
      "metadata": {
        "id": "VV8zfFrXgSxP",
        "outputId": "47b8c192-7c10-4ebb-eda0-19475d51e759",
        "colab": {
          "base_uri": "https://localhost:8080/",
          "height": 221
        }
      },
      "source": [
        "archivo= open(\"./sample_data/Datos.txt\",\"rt\")\n",
        "\n",
        "renglones = archivo.readlines()\n",
        "listR = []\n",
        "    \n",
        "sumaR=0\n",
        "contador=0\n",
        "i = 0\n",
        "sumaT=0\n",
        "\n",
        "\n",
        "for renglon in renglones:\n",
        "\n",
        "    listR.append(renglon.split(','))\n",
        "\n",
        "\n",
        "for renglonn in listR:\n",
        "    sumaR = 0\n",
        "\n",
        "    try:\n",
        "\n",
        "        for c in listR[i]:\n",
        "            c = c.replace(\" \", \"\")\n",
        "            sumaR+= int(c)\n",
        "            sumaT += int(c)\n",
        "\n",
        "        print(f\"Resultado de la suma por renglon {i}: {sumaR}\")\n",
        "    \n",
        "    except:\n",
        "        None\n",
        "    \n",
        "    i += 1\n",
        "\n",
        "print(f\"\\nResultado de la suma total: {sumaT}\")\n",
        "\n",
        "archivo.close()\n",
        "            "
      ],
      "execution_count": null,
      "outputs": [
        {
          "output_type": "stream",
          "text": [
            "Resultado de la suma por renglon 0: 406\n",
            "Resultado de la suma por renglon 2: 367\n",
            "Resultado de la suma por renglon 4: 814\n",
            "Resultado de la suma por renglon 6: 391\n",
            "Resultado de la suma por renglon 8: 786\n",
            "Resultado de la suma por renglon 10: 513\n",
            "Resultado de la suma por renglon 12: 745\n",
            "Resultado de la suma por renglon 14: 585\n",
            "Resultado de la suma por renglon 16: 154\n",
            "Resultado de la suma por renglon 18: 220\n",
            "\n",
            "Resultado de la suma total: 4981\n"
          ],
          "name": "stdout"
        }
      ]
    }
  ]
}
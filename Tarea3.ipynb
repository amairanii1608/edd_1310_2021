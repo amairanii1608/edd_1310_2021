{
  "nbformat": 4,
  "nbformat_minor": 0,
  "metadata": {
    "colab": {
      "name": "Tarea3.ipynb",
      "provenance": [],
      "authorship_tag": "ABX9TyNet/0mFWJL0paKkrPL0Mu4",
      "include_colab_link": true
    },
    "kernelspec": {
      "name": "python3",
      "display_name": "Python 3"
    }
  },
  "cells": [
    {
      "cell_type": "markdown",
      "metadata": {
        "id": "view-in-github",
        "colab_type": "text"
      },
      "source": [
        "<a href=\"https://colab.research.google.com/github/amairanii1608/edd_1310_2021/blob/main/Tarea3.ipynb\" target=\"_parent\"><img src=\"https://colab.research.google.com/assets/colab-badge.svg\" alt=\"Open In Colab\"/></a>"
      ]
    },
    {
      "cell_type": "code",
      "metadata": {
        "id": "mKrolwbKVCB5",
        "outputId": "2c7cf271-bfcc-4c10-cca2-87d3590e5a6c",
        "colab": {
          "base_uri": "https://localhost:8080/",
          "height": 119
        }
      },
      "source": [
        "class Persona:\n",
        "    def __init__( self , nom , ed , est):\n",
        "        self.__nombre= nom\n",
        "        self.__edad= ed\n",
        "        self.__estatura= est\n",
        "        \n",
        "    def to_string( self ):\n",
        "      return  \"Nombre: \"+self.__nombre+\" Edad: \"+self.__edad+\" Estatura: \"+self.__estatura\n",
        "\n",
        "    def dormir( self):\n",
        "      print(\"La persona esta durmiendo\")\n",
        "\n",
        "    def comer( self):\n",
        "      print(\"La persona esta comiendo\")\n",
        "      \n",
        "n_p = Persona(\"Fernando\",\"22 años\",\"1.70m\")\n",
        "print(n_p.to_string())\n",
        "\n",
        "n_p.__nombre= \"Luis\"\n",
        "n_p.__edad= \"25 años\"\n",
        "n_p.__estatura= \"1.62m\"\n",
        "\n",
        "print(n_p.__nombre)\n",
        "print(n_p.__edad)\n",
        "print(n_p.__estatura)\n",
        "n_p.dormir()\n",
        "n_p.comer()"
      ],
      "execution_count": null,
      "outputs": [
        {
          "output_type": "stream",
          "text": [
            "Nombre: Fernando Edad: 22 años Estatura: 1.70m\n",
            "Luis\n",
            "25 años\n",
            "1.62m\n",
            "La persona esta durmiendo\n",
            "La perona esta comiendo\n"
          ],
          "name": "stdout"
        }
      ]
    },
    {
      "cell_type": "code",
      "metadata": {
        "id": "7LU-7soVc1Du",
        "outputId": "e41db02b-b70d-4a5e-e392-426a782c0e6a",
        "colab": {
          "base_uri": "https://localhost:8080/",
          "height": 119
        }
      },
      "source": [
        "class Celular:\n",
        "    def __init__( self , mar , mod , espm):\n",
        "        self.__marca= mar\n",
        "        self.__modelo= mod\n",
        "        self.__espaciomem= espm\n",
        "\n",
        "    def to_string( self ):\n",
        "      return  \"Marca: \"+self.__marca+\" Modelo: \"+self.__modelo+\" Espacio: \"+self.__espaciomem\n",
        "\n",
        "    def llamar( self):\n",
        "      print(\"El celular esta llamando\")\n",
        "\n",
        "    def poneralarma( self):\n",
        "      print(\"El celular ya configuro la alarma\")\n",
        "\n",
        "n_ce = Celular(\"Samsung\",\"Prime\",\"32GB\")\n",
        "print(mi_ce.to_string())\n",
        "\n",
        "n_ce.__marca= \"LG\"\n",
        "n_ce.__modelo= \"ZTE3\"\n",
        "n_ce.__espaciomem= \"16GB\"\n",
        "\n",
        "print(n_ce.__marca)\n",
        "print(n_ce.__modelo)\n",
        "print(n_ce.__espaciomem)\n",
        "\n",
        "n_ce.llamar()\n",
        "n_ce.poneralarma()"
      ],
      "execution_count": null,
      "outputs": [
        {
          "output_type": "stream",
          "text": [
            "Marca: Samsung Modelo: Prime Espacio: 32GB\n",
            "LG\n",
            "ZTE3\n",
            "16GB\n",
            "El celular esta llamando\n",
            "El celular ya configuro la alarma\n"
          ],
          "name": "stdout"
        }
      ]
    }
  ]
}